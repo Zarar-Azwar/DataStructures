{
  "nbformat": 4,
  "nbformat_minor": 0,
  "metadata": {
    "colab": {
      "provenance": [],
      "authorship_tag": "ABX9TyN6c5vqSV3IbSNOXJ5JfETQ",
      "include_colab_link": true
    },
    "kernelspec": {
      "name": "python3",
      "display_name": "Python 3"
    },
    "language_info": {
      "name": "python"
    }
  },
  "cells": [
    {
      "cell_type": "markdown",
      "metadata": {
        "id": "view-in-github",
        "colab_type": "text"
      },
      "source": [
        "<a href=\"https://colab.research.google.com/github/Zarar-Azwar/DataStructures/blob/main/DataStructures.ipynb\" target=\"_parent\"><img src=\"https://colab.research.google.com/assets/colab-badge.svg\" alt=\"Open In Colab\"/></a>"
      ]
    },
    {
      "cell_type": "markdown",
      "source": [
        "**Given a linked list, determine if it has a cycle in it**\n",
        "[Open]( https://leetcode.com/problems/linked-list-cycle/)"
      ],
      "metadata": {
        "id": "8SVnlqdp5Ik7"
      }
    },
    {
      "cell_type": "code",
      "execution_count": null,
      "metadata": {
        "id": "NklZumR043nN"
      },
      "outputs": [],
      "source": [
        "class Solution:\n",
        "    def hasCycle(self, head: Optional[ListNode]) -> bool:\n",
        "        if head==None:\n",
        "            return False\n",
        "        else:\n",
        "            fast=head\n",
        "            slow=head\n",
        "            while fast!=None and fast.next!=None:\n",
        "                slow=slow.next\n",
        "                fast=fast.next.next\n",
        "                if slow==fast:\n",
        "                    break\n",
        "            \n",
        "            if fast==None or fast.next==None:\n",
        "                return False\n",
        "            elif slow==fast:\n",
        "                return True\n",
        "            else:\n",
        "                return False"
      ]
    },
    {
      "cell_type": "markdown",
      "source": [
        "**Reverse a singly linked list.**\n",
        "[Open]( https://leetcode.com/problems/reverse-linked-list/)"
      ],
      "metadata": {
        "id": "pUjEAmonOKBQ"
      }
    },
    {
      "cell_type": "code",
      "source": [
        "class Solution:\n",
        "    def reverseList(self, head: Optional[ListNode]) -> Optional[ListNode]:\n",
        "        if head==None:\n",
        "            return None\n",
        "        if head!=None and head.next==None:\n",
        "            return head\n",
        "        else:\n",
        "            temp=None\n",
        "            next_node=None\n",
        "            while head!=None:\n",
        "                next_node=head.next\n",
        "                head.next=temp\n",
        "                temp=head\n",
        "                head=next_node\n",
        "            return temp"
      ],
      "metadata": {
        "id": "34I2YSiW5fv1"
      },
      "execution_count": null,
      "outputs": []
    },
    {
      "cell_type": "markdown",
      "source": [
        "**Delete Node in a Linked List**\n",
        "[Open](https://leetcode.com/problems/delete-node-in-a-linked-list/)"
      ],
      "metadata": {
        "id": "8kncnETOOfNu"
      }
    },
    {
      "cell_type": "code",
      "source": [
        "class Solution:\n",
        "    def deleteNode(self, node):\n",
        "        \"\"\"\n",
        "        :type node: ListNode\n",
        "        :rtype: void Do not return anything, modify node in-place instead.\n",
        "        \"\"\"\n",
        "        if node==None:\n",
        "            pass\n",
        "        else:\n",
        "            next_node=node.next\n",
        "            node.val=next_node.val\n",
        "            node.next=next_node.next"
      ],
      "metadata": {
        "id": "P7hhPpvUPzU5"
      },
      "execution_count": null,
      "outputs": []
    },
    {
      "cell_type": "markdown",
      "source": [
        "**Merge Two Sorted Lists**\n",
        "[Open](https://leetcode.com/problems/merge-two-sorted-lists/)"
      ],
      "metadata": {
        "id": "RBirtfHoP3Ti"
      }
    },
    {
      "cell_type": "code",
      "source": [
        "class Solution:\n",
        "    def mergeTwoLists(self, list1: Optional[ListNode], list2: Optional[ListNode]) -> Optional[ListNode]:\n",
        "      if list1==None and list2==None:\n",
        "        return None\n",
        "      elif list1==None:\n",
        "        return list2\n",
        "      elif list2==None:\n",
        "        return list1\n",
        "      else:\n",
        "        dumyList=ListNode(0)\n",
        "        temp=dumyList\n",
        "        while list1!=None and list2!=None:\n",
        "          if list1.val>list2.val:\n",
        "            temp.next=list2\n",
        "            list2=list2.next\n",
        "          else:\n",
        "            temp.next=list1\n",
        "            list1=list1.next\n",
        "          temp=temp.next\n",
        "        if list1==None:\n",
        "          temp.next=list2\n",
        "        elif list2==None:\n",
        "          temp.next=list1\n",
        "        return dumyList.next"
      ],
      "metadata": {
        "id": "7EqFRVXCSOw_"
      },
      "execution_count": null,
      "outputs": []
    },
    {
      "cell_type": "markdown",
      "source": [
        "**Intersection of Two Linked Lists**\n",
        "[Open](https://leetcode.com/problems/intersection-of-two-linked-lists/)"
      ],
      "metadata": {
        "id": "vPMbkgEbU7jX"
      }
    },
    {
      "cell_type": "code",
      "source": [
        "def getIntersectionNode(self, headA: ListNode, headB: ListNode) -> Optional[ListNode]:\n",
        "    if headA==None or headB==None:\n",
        "      return None\n",
        "    else:\n",
        "      current=headA\n",
        "      countA=0\n",
        "      while current!=None:\n",
        "        countA+=1\n",
        "        current=current.next\n",
        "      \n",
        "      current=headB\n",
        "      countB=0\n",
        "      while current!=None:\n",
        "        countB+=1\n",
        "        current=current.next\n",
        "      \n",
        "      if countA>countB:\n",
        "        diff=countA-countB\n",
        "        i=0\n",
        "        while i<diff:\n",
        "          headA=headA.next\n",
        "          i+=1\n",
        "      elif countB>countA:\n",
        "        diff=countB-countA\n",
        "        i=0\n",
        "        while i<diff:\n",
        "          headB=headB.next\n",
        "      \n",
        "      while headA==None and headB==None:\n",
        "        if headA==headB:\n",
        "          return headA\n",
        "        else:\n",
        "          headA=headA.next\n",
        "          headB=headB.next"
      ],
      "metadata": {
        "id": "Ge8jhuoSitUS"
      },
      "execution_count": null,
      "outputs": []
    }
  ]
}